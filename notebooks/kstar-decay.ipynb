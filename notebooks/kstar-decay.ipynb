{
 "cells": [
  {
   "cell_type": "markdown",
   "id": "e15b5dc6-538e-4fa3-b2ce-b37687ec91b6",
   "metadata": {},
   "source": [
    "# Analisi statistica dei dati relativi al decadimento della particella K*\n",
    "\n",
    "__Nota__: questo documento è la versione stampabile di un notebook Jupyter. Se ne consiglia la visione online al seguente link: https://github.com/P2-718na/kstar-decay-analysis/blob/master/notebooks/kstar-decay.ipynb . Sulla stessa repository di GitHub (https://github.com/P2-718na/kstar-decay-analysis), sono presenti ulteriori istruzioni per scaricare ed eseguire il notebook localmente, usando JupyterLab."
   ]
  },
  {
   "cell_type": "markdown",
   "id": "12a25e22-d316-4964-ba71-8c458289bbf7",
   "metadata": {
    "jp-MarkdownHeadingCollapsed": true,
    "tags": []
   },
   "source": [
    "## 1. Introduzione\n",
    "La particella K\\* è altamente instabile e ha una vita media di 10<sup>-11</sup> secondi; per questo motivo, per rilevarla si è costretti a ricorrere a metodi statistici piuttosto che a a metodi di rilevamento diretto. Lo scopo di questa esperienza di laboratorio è quello di provare l'esistenza della particella K\\* tramite un'analisi statistica. In particolare, il codice che è stato sviluppato si occupa di:\n",
    "\n",
    "1. Simulare eventi di collisione dell'esperimento _ALICE_ tramite il metodo di generazione Montecarlo.\n",
    "2. Analizzare i dati raccolti, dimostrare l'esistenza della particella K\\* e verificare i risultati ottenuti con un istogramma di controllo."
   ]
  },
  {
   "cell_type": "markdown",
   "id": "866a3433-18b3-4e5d-b8ec-ba9335f1310c",
   "metadata": {
    "tags": []
   },
   "source": [
    "## 2. Struttura del codice\n",
    "Il codice di simulazione è stato realizzato in _C++_ e fa uso intensivo delle librerie _ROOT_. È stato scelto un approccio diverso da quello consigliato, in modo da espandere ancora di più le possibilità di reimpiego del codice. Segue una breve descrizione di quello che è stato sviluppato."
   ]
  },
  {
   "cell_type": "markdown",
   "id": "67696b14-38d1-49a5-b35e-354d7a6f0c8a",
   "metadata": {},
   "source": [
    "### 2.1. Classi implementate\n",
    "Sono state implementate due classi virtuali: `Entity` ed `Experiment`.\n",
    "\n",
    "- <h4>Entity</h4>\n",
    "  Una _Entity_ rappresenta una generica entità rilevabile da un esperimento (i.e. particella o risonanza), a cui sono associate una quantità di moto, una carica e una massa. Una _Entity_ può essere solo di un numero finito di tipi, ognuno definito da tre proprietà: carica, massa e larghezza di risonanza (quest'ultima esiste solo per le risonanze). Ogni tipo è implementato tramite una classe derivata di `Entity`, in cui sono dichiarate le rispettive proprietà; per risparmiare memoria, sono dichiarate come `static`.  \n",
    "  I metodi e le proprietà condivise tra tutti i tipi, invece, sono salvati nella classe base `Entity`.\n",
    "  \n",
    "- <h4>Experiment</h4>\n",
    "  Un _Experiment_ rappresenta un esperimento dell'_LHC_ e contiene il codice che si occupa di simulare gli eventi di collisione e raccogliere i dati. Per dare la possibilità di riutilizzare questo programma per esperimenti diversi, ogni esperimento è implementato tramite una classe derivata di `Experiment`. L'esperimento che interessa a noi è implementato in `KaonSDecay` ed è descritto accuratamente in <ins>[3. Generazione di dati]</ins>."
   ]
  },
  {
   "cell_type": "markdown",
   "id": "506f8636-dcc7-4c70-97bf-eb4ee22a5b75",
   "metadata": {},
   "source": [
    "### 2.2. Meccanismi di reimpiego\n",
    "Il polimorfismo dinamico ha reso possibile sviluppare il codice con una struttura modulare. Per aggiungere nuovi tipi di particelle o esperimenti, basta semplicemente aggiungere un file in cui se ne definiscano le proprietà. Tutto questo è stato realizzato prestando particolare attenzione all'utilizzo delle risorse disponibili: non sono presenti né dati duplicati né linee di codice ridondanti.\n",
    "\n",
    "Il codice usato per la simulazione dei dati è allegato in fondo a questo documento, ma se ne consiglia la visione su GitHub\\[1\\], dove sono presenti ulteriori informazioni e istruzioni per la compilazione.\n",
    "\n",
    "\\[1\\]: https://github.com/P2-718na/ALICE-simulation"
   ]
  },
  {
   "cell_type": "markdown",
   "id": "1bf4ed8b-3d0d-45b9-86c3-32c0621392b3",
   "metadata": {
    "tags": []
   },
   "source": [
    "## 3. Generazione dei dati"
   ]
  },
  {
   "cell_type": "markdown",
   "id": "0e6357be-d536-4f19-b368-b6a507ba74b6",
   "metadata": {},
   "source": [
    "### 3.1. Funzionamento del programma\n",
    "Il numero di eventi di un esperimento di _ALICE_ è dell'ordine di 10<sup>5</sup>-10<sup>7</sup>, ognuno dei quali conta 10<sup>2</sup>-10<sup>4</sup> particelle. Il programma simula gli eventi uno ad uno, svolgendo le seguenti operazioni:\n",
    "\n",
    "1. Viene generato un certo numero di particelle <ins>[3.2. Generazione delle particelle]</ins>.\n",
    "2. Vengono fatte decadere le particelle instabili <ins>[3.3. Decadimenti]</ins>.\n",
    "3. Vengono inseriti tutti i dati raccolti in un istogramma di _ROOT_.\n",
    "4. Viene ripulita la memoria prima dell'evento successivo."
   ]
  },
  {
   "cell_type": "markdown",
   "id": "1b36db8c-8583-4a1f-85aa-5bc23c35ad4a",
   "metadata": {},
   "source": [
    "### 3.2. Generazione delle particelle\n",
    "In ogni evento, è presente solo un numero limitato di tipi di particelle, tutte indistingubili tra loro. Per la loro generazione, quindi, si è tenuto conto solamente di:\n",
    "\n",
    "- _PDF_ della distribuzione dei momenti delle particelle, come descritto in tabella <ins>[A.1]</ins>.\n",
    "- Frequenza relativa con cui appare ogni tipo di particella, come descritto in tabella <ins>[A.2]</ins>.\n",
    "\n",
    "Tutte le particelle generate vengono salvate in memoria fino alla simulazione dell'evento successivo.\n",
    "Per generare numeri casuali secondo distribuzioni di probabilità, sono stati usati i metodi della classe `TRandom3` di _ROOT_."
   ]
  },
  {
   "cell_type": "markdown",
   "id": "12f9ba55-ca8b-4c4c-89fa-2bca26097a02",
   "metadata": {},
   "source": [
    "### 3.3. Decadimenti\n",
    "Non appena è generata una particella K\\*, viene rimossa e sostituita da una coppia $\\pi$/$\\kappa$ di segno opposto, a fine di simulare il processo di decadimento. I prodotti del decadimento hanno la stessa energia della particella madre, divisa in modo casuale tra di loro.\n",
    "Per consentire la creazione di un istogramma di controllo, questi vengono _marchiati_, così da poterli distinguere dalle particelle generate normalmente. In un esperimento reale non sarebbe possibile distinguere tra particelle prodotte dal decadimento e particelle generate da una collisione."
   ]
  },
  {
   "cell_type": "markdown",
   "id": "9d9d9276-bee7-475b-a9c1-231a72ac61c5",
   "metadata": {},
   "source": [
    "## 4. Analisi dei dati"
   ]
  },
  {
   "cell_type": "markdown",
   "id": "b4f45af9-2bc4-45cb-8395-eb13e30362c8",
   "metadata": {
    "tags": []
   },
   "source": [
    "### 4.1. Correttezza dei dati generati\n",
    "- <h4>Abbondanza delle particelle</h4>\n",
    "  Il numero di particelle generato corrisponde con quanto inserito nei dati di input e la percentuale di occorrenze di ogni singola particella è compatibile con quanto specificato nel programma, entro le incertezze. I dati sono riassunti in <ins>[B.1]</ins> e <ins>[A.3]</ins>\n",
    "  \n",
    "- <h4>Distribuzione angoli azimutali e polari</h4>\n",
    "  Le distribuzioni attese sono uniformi. I risultati del fit, visibili in <ins>[B.2]</ins>, <ins>[B.3]</ins> e <ins>[A.4]</ins>, sono concordi con i valori attesi. Entrambi gli istogrammi sono divisi in $360$ bin e contengono $10^7$ elementi; il valore atteso per il parametro `p0` è: $10^7 / 360 = 2.778*10^4$, concorde con quanto ottenuto. Il fit è stato eseguito usando la funzione `pol0` di ROOT.\n",
    "  \n",
    "- <h4>Distribuzione modulo dell'impulso</h4>\n",
    "  La distribuzione attesa è esponenziale, con media uno. I risultati del fit, visibili in <ins>[B.4]</ins> <ins>[A.4]</ins>, sono concordi con i valori attesi. Il fit è stato eseguito usando la funzione `expo` di ROOT."
   ]
  },
  {
   "cell_type": "markdown",
   "id": "39ddf1d3-eac2-41c8-8f2e-6950889effd0",
   "metadata": {
    "tags": []
   },
   "source": [
    "### 4.2. Analisi degli istogrammi di massa invariante"
   ]
  },
  {
   "cell_type": "markdown",
   "id": "78ce1827-8d99-42f4-9d97-1cc064572fa8",
   "metadata": {},
   "source": [
    "Dal decadimento della K\\* si generano sempre coppie Pione-Kaone di segno opposto, la cui massa invariante corrisponde proprio alla massa della K\\*. Questa osservazione permette di utilizzare il seguente approccio per estrarre il segnale della K\\*:\n",
    "\n",
    "1. Si calcolano le masse invarianti di tutte le possibili coppie Pione/Kaone di _segno opposto_.\n",
    "2. Si calcolano le masse invarianti di tutte le possibili coppie Pione/Kaone di _segno concorde_.\n",
    "3. Si raccolgono i dati in due istogrammi (indicati come \"3\" e \"4\", sia nel codice che nel resto di questo documento). \n",
    "4. Si sottrae (4) da (3) (vedi <ins>[B.7]</ins>).\n",
    "\n",
    "Sia in (3) che in (4) si trovano dei picchi in corrispondenza di tutte le combinazioni di massa invariante delle particelle. In (3), visto che è presente una piccola quantità di coppie Pione/Kaone generate da decadimenti della K\\*, ci aspettiamo di trovare un altro picco in corrispondenza della massa della K\\*. Il (4) permette di rimuovere il rumore di fondo da (3), evidenziando questo picco. In questo modo, ci si aspetta di ottenere un grafico risultante che segue la distribuzione della massa della K\\*, con deviazione standard corrispondente all'ampiezza di risonanza della particella. Considerando i grafici di _tutte_ le coppie di particelle di segno opposto e concorde, ci si aspetta di ottenere un risultato consistente (vedi <ins>[B.6]</ins>).\n",
    "\n",
    "In natura questa distribuzione è una Lorenziana; tuttavia, per semplicità, nel programma di generazione è stata usata una distribuzione Gaussiana. Le funzioni di fit sono state scelte di conseguenza.\n",
    "\n",
    "Il programma di simulazione permette di realizzare un istogramma di controllo <ins>[B.5]</ins>. I dati ottenuti dal fit di questo istogramma sono concordi con i  parametri della simulazione. Anche i dati ottenuti dai fit dei due istogrammi <ins>[B.6]</ins> e <ins>[B.7]</ins> sono concordi con i parametri della simulazione. Tutti i risultati sono riassunti in <ins>[A.5]</ins>."
   ]
  },
  {
   "cell_type": "markdown",
   "id": "9f71a1ad-c785-449e-ae29-293b17dea351",
   "metadata": {},
   "source": [
    "## Appendice A: Tabelle"
   ]
  },
  {
   "cell_type": "markdown",
   "id": "ed7e6d9f-1ca2-4b3e-897f-c48de113c1c6",
   "metadata": {},
   "source": [
    "<table>\n",
    "    <caption><b>Tabella A.1.</b> Parametri di generazione.</caption>\n",
    "    <tr>\n",
    "        <th>Parametro</th>\n",
    "        <th>Valore</th>\n",
    "    </tr>\n",
    "    <tr>\n",
    "        <td>n° eventi</td>\n",
    "        <td>10<sup>5</sup></td>\n",
    "    </tr>\n",
    "    <tr>\n",
    "        <td>n° particelle per evento</td>\n",
    "        <td>100</td>\n",
    "    </tr>\n",
    "    <tr>\n",
    "        <td><i>PDF</i> modulo del momento</td>\n",
    "        <td>Esponenziale, media 1</td>\n",
    "    </tr>\n",
    "    <tr>\n",
    "        <td><i>PDF</i> angoli azimutali e polari</td>\n",
    "        <td>Uniforme</td>\n",
    "    </tr>\n",
    "</table>\n",
    "<div style=\"page-break-after: always;\"></div>"
   ]
  },
  {
   "cell_type": "markdown",
   "id": "1306cf01-f0ba-4bf8-bee5-e2563b2f591f",
   "metadata": {},
   "source": [
    "<table>\n",
    "    <caption><b>Tabella A.2.</b> Probabilità di generazione delle particelle, configurazione inserita nel programma.</caption>\n",
    "    <tr>\n",
    "        <th>Particella</th>\n",
    "        <th>Probabilità relativa</th>\n",
    "    </tr>\n",
    "    <tr>\n",
    "        <td>$\\pi$+</td>\n",
    "        <td>40.0%</td>\n",
    "    </tr>\n",
    "    <tr>\n",
    "        <td>$\\pi$-</td>\n",
    "        <td>40.0%</td>\n",
    "    </tr>\n",
    "    <tr>\n",
    "        <td>$\\kappa$+</td>\n",
    "        <td>5.0%</td>\n",
    "    </tr>\n",
    "    <tr>\n",
    "        <td>$\\kappa$-</td>\n",
    "        <td>5.0%</td>\n",
    "    </tr>\n",
    "    <tr>\n",
    "        <td>p+</td>\n",
    "        <td>4.5%</td>\n",
    "    </tr>\n",
    "    <tr>\n",
    "        <td>p-</td>\n",
    "        <td>4.5%</td>\n",
    "    </tr>\n",
    "    <tr>\n",
    "        <td>$\\kappa$*</td>\n",
    "        <td>1.0%</td>\n",
    "    </tr>\n",
    "</table>\n",
    "<div style=\"page-break-after: always;\"></div>"
   ]
  },
  {
   "cell_type": "markdown",
   "id": "11daa857-13bc-4459-88fd-c055ccf66b7c",
   "metadata": {},
   "source": [
    "<table>\n",
    "    <caption><b>Tabella A.3.</b> Abbondanza delle particelle generate, cofrontata con il valore atteso. Le incertezze sui valori osservati sono valutate usando la regola della radice.</caption>\n",
    "    <tr>\n",
    "        <th>Particella</th>\n",
    "        <th>Numero atteso ($10^3$ occorrenze)</th>\n",
    "        <th>Numero ottenuto ($10^3$ occorrenze) </th>\n",
    "        <th>Percentuale attesa</th>\n",
    "        <th>Percentuale ottenuta</th>\n",
    "    </tr>\n",
    "    <tr>\n",
    "        <td>$\\pi$+</td>\n",
    "        <td>4000</td>\n",
    "        <td>3999 $\\pm$ 2</td>\n",
    "        <td>40.0%</td>\n",
    "        <td>40.0%</td>\n",
    "    </tr>\n",
    "    <tr>\n",
    "        <td>$\\pi$-</td>\n",
    "        <td>4000</td>\n",
    "        <td>4000 $\\pm$ 2</td>\n",
    "        <td>40.0%</td>\n",
    "        <td>40.0%</td>\n",
    "    </tr>\n",
    "    <tr>\n",
    "        <td>$\\kappa$+</td>\n",
    "        <td>500</td>\n",
    "        <td>500.3 $\\pm$ 0.7</td>\n",
    "        <td>5.0%</td>\n",
    "        <td>5.0%</td>\n",
    "    </tr>\n",
    "    <tr>\n",
    "        <td>$\\kappa$-</td>\n",
    "        <td>500</td>\n",
    "        <td>500.1 $\\pm$ 0.7</td>\n",
    "        <td>5.0%</td>\n",
    "        <td>5.0%</td>\n",
    "    </tr>\n",
    "    <tr>\n",
    "        <td>p+</td>\n",
    "        <td>450</td>\n",
    "        <td>449.0 $\\pm$ 0.7</td>\n",
    "        <td>4.5%</td>\n",
    "        <td>4.5%</td>\n",
    "    </tr>\n",
    "    <tr>\n",
    "        <td>p-</td>\n",
    "        <td>450</td>\n",
    "        <td>450.7 $\\pm$ 0.7</td>\n",
    "        <td>4.5%</td>\n",
    "        <td>4.5%</td>\n",
    "    </tr>\n",
    "    <tr>\n",
    "        <td>$\\kappa$*</td>\n",
    "        <td>100</td>\n",
    "        <td>100.5 $\\pm$ 0.3</td>\n",
    "        <td>1.0%</td>\n",
    "        <td>1.0%</td>\n",
    "    </tr>\n",
    "    <tr>\n",
    "        <td><b>Totale</b></td>\n",
    "        <td>100</td>\n",
    "        <td>10000 $\\pm$ 7</td>\n",
    "        <td>100.0%</td>\n",
    "        <td>100.0%</td>\n",
    "    </tr>\n",
    "</table>\n",
    "<div style=\"page-break-after: always;\"></div>"
   ]
  },
  {
   "cell_type": "markdown",
   "id": "2fc097b1-462b-4a5b-a777-296f58d401af",
   "metadata": {},
   "source": [
    "<table>\n",
    "    <caption><b>Tabella A.4.</b> Distribuzioni ottenute di angoli polari, azimutali e modulo dell'impulso.</caption>\n",
    "    <tr>\n",
    "        <th>Distribuzione</th>\n",
    "        <th>Nome parametro del fit</th>\n",
    "        <th>Valore parametro</th>\n",
    "        <th>${\\chi}^2$</th>\n",
    "        <th>DOF</th>\n",
    "        <th>${\\chi}^2$/ DOF</th>\n",
    "    </tr>\n",
    "    <tr>\n",
    "        <td>Angolo azimutale $\\phi$ (<code>pol0</code>)</td>\n",
    "        <td>p0 (intercetta)</td>\n",
    "        <td>27780 $\\pm$ 90</td>\n",
    "        <td>357.6</td>\n",
    "        <td>359</td>\n",
    "        <td>0.996</td>\n",
    "    </tr>\n",
    "    <tr>\n",
    "        <td>Angolo polare $\\theta$ (<code>pol0</code>)</td>\n",
    "        <td>p0 (intercetta)</td>\n",
    "        <td>27780 $\\pm$ 90</td>\n",
    "        <td>337.2</td>\n",
    "        <td>359</td>\n",
    "        <td>0.939</td>\n",
    "    </tr>\n",
    "    <tr>\n",
    "        <td>Modulo dell'impulso (<code>expo</code>)</td>\n",
    "        <td>Slope (media esponenziale)</td>\n",
    "        <td>1.0004 $\\pm$ 0.0003</td>\n",
    "        <td>527.2</td>\n",
    "        <td>498</td>\n",
    "        <td>1.06</td>\n",
    "    </tr>\n",
    "</table>\n",
    "<div style=\"page-break-after: always;\"></div>"
   ]
  },
  {
   "cell_type": "markdown",
   "id": "3e06a9d4-ee14-4ace-ae3a-3f4e46c5537d",
   "metadata": {},
   "source": [
    "<table>\n",
    "    <caption><b>Tabella A.5.</b> Risultati analisi della K*.</caption>\n",
    "    <tr>\n",
    "        <th>Distribuzione di massa invariante (gaussiana)</th>\n",
    "        <th>Media (MeV)</th>\n",
    "        <th>Deviazione standard (MeV)</th>\n",
    "        <th>Ampiezza (occorrenze)</th>\n",
    "        <th>${\\chi}^2$/ DOF</th>\n",
    "    </tr>\n",
    "    <tr>\n",
    "        <td>Istogramma di controllo</td>\n",
    "        <td>891.8 $\\pm$ 0.2</td>\n",
    "        <td>49.8 $\\pm$ 0.1</td>\n",
    "        <td>1608 $\\pm$ 6</td>\n",
    "        <td>0.916</td>\n",
    "    </tr>\n",
    "    <tr>\n",
    "        <td>Differenza tra combinazioni di carica concorde/discorde di tutte le particelle</td>\n",
    "        <td>891 $\\pm$ 6</td>\n",
    "        <td>55 $\\pm$ 5</td>\n",
    "        <td>7500 $\\pm$ 600</td>\n",
    "        <td>0.915</td>\n",
    "    </tr>\n",
    "    <tr>\n",
    "        <td>Differenza tra combinazioni di carica concorde/discorde di coppie $\\pi$/$\\kappa$</td>\n",
    "        <td>891.9 $\\pm$ 1.9</td>\n",
    "        <td>50.2 $\\pm$ 1.9</td>\n",
    "        <td>8000 $\\pm$ 300</td>\n",
    "        <td>0.932</td>\n",
    "    </tr>\n",
    "    <tr>\n",
    "        <td>Valore inserito nella simulazione</td>\n",
    "        <td>891.66</td>\n",
    "        <td>50</td>\n",
    "        <td>/</td>\n",
    "        <td>/</td>\n",
    "    </tr>\n",
    "</table>\n",
    "<div style=\"page-break-after: always;\"></div>"
   ]
  },
  {
   "cell_type": "markdown",
   "id": "c252fe70-9304-4e5d-b715-353ebee7d09d",
   "metadata": {},
   "source": [
    "# Appendice B: Grafici e codice di analisi dati"
   ]
  },
  {
   "cell_type": "code",
   "execution_count": 1,
   "id": "ac881bac-d3ad-48a4-bcbe-2fbc935a3b1c",
   "metadata": {},
   "outputs": [
    {
     "data": {
      "image/png": "[encoded data removed]",
      "text/plain": [
       "<IPython.core.display.Image object>"
      ]
     },
     "metadata": {},
     "output_type": "display_data"
    },
    {
     "name": "stdout",
     "output_type": "stream",
     "text": [
      "tau = -1.00038 +/- 0.000348437\n"
     ]
    }
   ],
   "source": [
    "// Carica i dati salvati da file\n",
    "TFile* histograms = new TFile(\"../rootfiles/kstar-decay-hist.root\",\"READ\");\n",
    "\n",
    "// Importa i grafici necessari per [4.1]\n",
    "TH1F* ParticleDist     = (TH1F*)histograms->Get(\"ParticleDist\");\n",
    "TH1F* AzimuthAngleDist = (TH1F*)histograms->Get(\"AzimuthAngleDist\");\n",
    "TH1F* PolarAngleDist   = (TH1F*)histograms->Get(\"PolarAngleDist\");\n",
    "TH1F* MomentumDist     = (TH1F*)histograms->Get(\"MomentumDist\");\n",
    "\n",
    "// Imposta lo stile\n",
    "gStyle->SetOptFit(1111);\n",
    "gStyle->SetOptStat(\"neM\");\n",
    "\n",
    "// Crea una canvas per visualizzare i grafici e la divide in 4\n",
    "TCanvas* cv = new TCanvas(\"cv1\", \"\", 1200, 800);\n",
    "cv->Divide(2, 2);\n",
    "\n",
    "cv->cd(1);\n",
    "// Crea una pie per organizzare i dati\n",
    "TPie * particleDistPie = new TPie(ParticleDist);\n",
    "\n",
    "// Imposta lo stile\n",
    "int colors[] = {2, 63, 65, 222, 224, 71, 75, 79};\n",
    "particleDistPie->SetTitle(\"Grafico B.1. Numero di particelle generate\");\n",
    "particleDistPie->SetRadius(.25);\n",
    "particleDistPie->SetValueFormat(\"%.0f\");\n",
    "particleDistPie->SetLabelFormat(\"%txt: %val (%perc)\");\n",
    "particleDistPie->SortSlices();\n",
    "particleDistPie->SetFillColors(colors);\n",
    "particleDistPie->Draw(); // Richiesta solo qua, non dove faccio gia chiamata a Fit();\n",
    "                         // Nota: gli accenti nei commenti fanno crashare il kernel di jupyter.\n",
    "\n",
    "cv->cd(2); // Questo deve stare prima della chiamata a Fit(), altrimenti le cose si rompono.\n",
    "// Esegue il fit del grafico e lo disegna\n",
    "AzimuthAngleDist->Fit(\"pol0\", \"Q\");\n",
    "AzimuthAngleDist->SetFillColor(7);\n",
    "AzimuthAngleDist->SetTitle(\"Grafico B.2. Distribuzione degli angoli azimutali e relativo fit;Valore angolo (radianti);Numero occorrenze\");\n",
    "\n",
    "cv->cd(3);\n",
    "// Esegue il fit del grafico e lo disegna\n",
    "PolarAngleDist->Fit(\"pol0\", \"Q\");\n",
    "PolarAngleDist->SetFillColor(7);\n",
    "PolarAngleDist->SetTitle(\"Grafico B.3. Distribuzione degli angoli polari e relativo fit;Valore angolo (radianti);Numero occorrenze\");\n",
    "\n",
    "cv->cd(4);\n",
    "// Esegue il fit del grafico e lo disegna.\n",
    "TFitResultPtr r = MomentumDist->Fit(\"expo\", \"SQ\");\n",
    "// Stampa il parametro con l'errore, visto che non compare nella legenda.\n",
    "cout << \"tau = \" << r->Parameter(1) << \" +/- \" << r->ParError(1) << endl;\n",
    "MomentumDist->SetFillColor(7);\n",
    "MomentumDist->SetTitle(\"Grafico B.4. Distribuzione del modulo dell'impulso e relativo fit;Modulo dell'impulso (GeV/c);Numero occorrenze\");\n",
    "\n",
    "// Disegna la canvas\n",
    "cv->Draw();"
   ]
  },
  {
   "cell_type": "code",
   "execution_count": null,
   "id": "ae6e6f48-6fdd-4f6b-822b-18ec40749444",
   "metadata": {},
   "outputs": [],
   "source": [
    "// Carica i dati salvati da file\n",
    "TFile* histograms = new TFile(\"../rootfiles/kstar-decay-hist.root\",\"READ\");\n",
    "\n",
    "// Importa i grafici necessari per [4.2]\n",
    "TH1F* InvMassOppCharge    = (TH1F*)histograms->Get(\"InvMassOppCharge\");   // (1)\n",
    "TH1F* InvMassSameCharge   = (TH1F*)histograms->Get(\"InvMassSameCharge\");  // (2)\n",
    "TH1F* InvMassPKOppCharge  = (TH1F*)histograms->Get(\"InvMassPKOppCharge\"); // (3)\n",
    "TH1F* InvMassPKSameCharge = (TH1F*)histograms->Get(\"InvMassPKSameCharge\");// (4)\n",
    "TH1F* InvMassPKCouple     = (TH1F*)histograms->Get(\"InvMassPKCouple\");    // (5)\n",
    "\n",
    "// Imposta lo stile\n",
    "gStyle->SetOptFit(1111);\n",
    "gStyle->SetOptStat(\"neM\");\n",
    "\n",
    "// Crea una canvas per visualizzare i grafici e la divide in 4\n",
    "TCanvas* cv = new TCanvas(\"cv2\", \"\", 1200, 800);\n",
    "cv->Divide(2, 2);\n",
    "\n",
    "// Crea l'istogramma di controllo\n",
    "InvMassPKCouple->Fit(\"gaus\", \"Q0\");\n",
    "InvMassPKCouple->SetFillColor(7);\n",
    "InvMassPKCouple->SetTitle(\"Grafico B.5. Masse invarianti calcolate tra coppie P/K generate dai decadimenti (istogramma di controllo);Massa invariante(GeV/c^2);Numero occorrenze\");\n",
    "\n",
    "// Crea l'istogramma differenza tra massa invariante di tutte le\n",
    "// particelle di segno opposto e concorde\n",
    "TH1F* InvMassSubtract = new TH1F(*InvMassSameCharge);\n",
    "InvMassSubtract->SetDrawOption(\"HIST\");\n",
    "InvMassSubtract->SetTitle(\"Grafico B.6. Differenza tra masse invarianti di tutte le coppie di particelle di segno opposto e concorde;Massa invariante(GeV/c^2);Numero occorrenze\");\n",
    "InvMassSubtract->Add(InvMassOppCharge, InvMassSameCharge, 1, -1); // (1) - (2)\n",
    "InvMassSubtract->Fit(\"gaus\", \"QB0\");\n",
    "InvMassSubtract->SetFillColor(7);\n",
    "InvMassSubtract->SetAxisRange(0.4, 1.4);\n",
    "\n",
    "// Crea l'istogramma differenza tra massa invariante di tutte le\n",
    "// coppie P/K di segno opposto e concorde\n",
    "TH1F* InvMassPKSubtract = new TH1F(*InvMassPKSameCharge);\n",
    "InvMassPKSubtract->SetTitle(\"Grafico B.7. Differenza tra masse invarianti di tutte le coppie Pione/Kaone di segno opposto e concorde;Massa invariante(GeV/c^2);Numero occorrenze\");\n",
    "InvMassPKSubtract->Add(InvMassPKOppCharge, InvMassPKSameCharge, 1, -1); // (3) - (4)\n",
    "InvMassPKSubtract->Fit(\"gaus\", \"QB0\");\n",
    "InvMassPKSubtract->SetFillColor(7);\n",
    "InvMassPKSubtract->SetAxisRange(0.4, 1.4);\n",
    "\n",
    "cv->cd(1);\n",
    "InvMassPKCouple->Draw(\"HIST\");\n",
    "TF1* ControlFit = InvMassPKCouple->GetFunction(\"gaus\");\n",
    "ControlFit->Draw(\"same\");\n",
    "\n",
    "cv->cd(2);\n",
    "InvMassSubtract->Draw(\"HIST\");\n",
    "TF1* SubFit = InvMassSubtract->GetFunction(\"gaus\");\n",
    "SubFit->Draw(\"same\");\n",
    "\n",
    "cv->cd(3);\n",
    "InvMassPKSubtract->Draw(\"HIST\");\n",
    "TF1* PKSubFit = InvMassPKSubtract->GetFunction(\"gaus\");\n",
    "PKSubFit->Draw(\"same\");\n",
    "\n",
    "cv->Draw();"
   ]
  },
  {
   "cell_type": "markdown",
   "id": "618b466d-2abe-41b1-a641-ab4953b981b7",
   "metadata": {},
   "source": [
    "## Appendice C: Codice di simulazione"
   ]
  }
 ],
 "metadata": {
  "kernelspec": {
   "display_name": "ROOT C++",
   "language": "c++",
   "name": "root"
  },
  "language_info": {
   "codemirror_mode": "text/x-c++src",
   "file_extension": ".C",
   "mimetype": " text/x-c++src",
   "name": "c++"
  }
 },
 "nbformat": 4,
 "nbformat_minor": 5
}
