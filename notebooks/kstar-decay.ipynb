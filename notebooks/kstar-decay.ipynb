{
 "cells": [
  {
   "cell_type": "markdown",
   "id": "e15b5dc6-538e-4fa3-b2ce-b37687ec91b6",
   "metadata": {},
   "source": [
    "# Analisi statistica dei dati relativi al decadimento della particella K*"
   ]
  },
  {
   "cell_type": "markdown",
   "id": "12a25e22-d316-4964-ba71-8c458289bbf7",
   "metadata": {},
   "source": [
    "## 1. Introduzione\n",
    "La particella K* è altamente instabile, e ha una vita media di 10<sup>-11</sup> secondi. Per questo motivo, se ne si vuole provarne l'esistenza si è costretti a ricorrere a metodi statistici, piuttosto che a a metodi di rilevamento diretto; questo è lo scopo della presente esperienza di laboratorio. L'analisi statistica che è stata svolta è basata su dati ottenuti tramite una simulazione. In particolare, il codice che è stato scritto scritto si occupa di:\n",
    "\n",
    "1. Simulare degli eventi di collisione dell'esperimento _ALICE_ tramite il metodo di generazione Montecarlo.\n",
    "2. Analizzare i dati raccolti, dimostrare l'esistenza della particella K* e verificare i risultati ottenuti con un istogramma di controllo."
   ]
  },
  {
   "cell_type": "markdown",
   "id": "866a3433-18b3-4e5d-b8ec-ba9335f1310c",
   "metadata": {},
   "source": [
    "## 2. Struttura del codice\n",
    "Il codice di simulazione è stato realizzato in _C++_ e fa un uso intensivo delle librerie _ROOT_. È stato scelto un approccio diverso da quello consigliato, in modo da espandere ancora di più le possibilità di reimpiego del codice. Segue una breve descrizione di quello che è stato sviluppato."
   ]
  },
  {
   "cell_type": "markdown",
   "id": "67696b14-38d1-49a5-b35e-354d7a6f0c8a",
   "metadata": {},
   "source": [
    "### 2.1. Classi implementate\n",
    "Sono state implementate due classi virtuali: `Entity` ed `Experiment`.\n",
    "\n",
    "- #### Entity\n",
    "  Una _Entity_ rappresenta una generica entità rilevabile da un esperimento (i.e. particella o risonanza), a cui sono associate una quantità di moto, una carica e una massa. Una _Entity_ può essere solo di un numero finito di tipi, ognuno definito da tre proprietà: carica, massa e larghezza di risonanza (quest'ultima esiste solo per le risonanze). Ogni tipo è implementato tramite una classe derivata di `Entity`, in cui sono dichiarate le rispettive proprietà; per risparmiare memoria, sono dichiarate come `static`.  \n",
    "  I metodi e le proprietà condivise tra tutti i tipi, invece, sono salvati nella classe base `Entity`.\n",
    "  \n",
    "- #### Experiment\n",
    "  La classe `Experiment` rappresenta un esperimento dell'_LHC_. Il codice che si occupa di simulare gli eventi di collisione e raccogliere i dati risiede qua. Per dare la possibilità di riutilizzare questo programma per esperimenti diversi, ogni esperimento è implementato tramite una classe derivata di `Experiment`. L'esperimento che interessa a noi è implementato in `KaonSDecay` ed è descritto accuratamente in <ins>[3. Generazione di dati]</ins>."
   ]
  },
  {
   "cell_type": "markdown",
   "id": "506f8636-dcc7-4c70-97bf-eb4ee22a5b75",
   "metadata": {},
   "source": [
    "### 2.2. Meccanismi di reimpiego\n",
    "Il polimorfismo dinamico ha reso possibile sviluppare il codice con una struttura modulare. Per aggiungere nuovi tipi di particelle o esperimenti, basta semplicemente aggiungere un file in cui se ne definiscono le proprietà. Tutto questo è stato realizzato prestando particolare attenzione all'utilizzo delle risorse di calcolo: non sono presenti né dati duplicati né linee di codice ridondanti.\n",
    "\n",
    "Il codice usato per la simulazione dei dati è disponibile interamente su\n",
    "GitHub\\[1\\], insieme ad ulteriori informazioni e istruzioni per la\n",
    "compilazione.\n",
    "\n",
    "\\[1\\]: https://github.com/P2-718na/ALICE-simulation"
   ]
  },
  {
   "cell_type": "markdown",
   "id": "1bf4ed8b-3d0d-45b9-86c3-32c0621392b3",
   "metadata": {
    "tags": []
   },
   "source": [
    "## 3. Generazione dei dati"
   ]
  },
  {
   "cell_type": "markdown",
   "id": "0e6357be-d536-4f19-b368-b6a507ba74b6",
   "metadata": {},
   "source": [
    "### 3.1. Funzionamento del programma\n",
    "Il numero di eventi di un esperimento di _ALICE_ è dell'ordine di 10<sup>5</sup>-10<sup>7</sup>, ognuno dei quali conta 10<sup>2</sup>-10<sup>4</sup> particelle. Il programma simula gli eventi uno ad uno, svolgendo le seguenti operazioni:\n",
    "\n",
    "1. Viene generato un certo numero di particelle <ins>[3.2. Generazione delle particelle]</ins>.\n",
    "2. Vengono fatte decadere le particelle instabili <ins>[3.3. Decadimenti]</ins>.\n",
    "3. Vengono inseriti tutti i dati raccolti in un istogramma di _ROOT_.\n",
    "4. Viene ripulita la memoria prima dell'evento successivo."
   ]
  },
  {
   "cell_type": "markdown",
   "id": "1b36db8c-8583-4a1f-85aa-5bc23c35ad4a",
   "metadata": {},
   "source": [
    "### 3.2. Generazione delle particelle\n",
    "In ogni evento, è presente solo un numero limitato di tipi di particelle, tutte indistingubili tra loro. Per la loro generazione, quindi, si è tenuto conto solamente di:\n",
    "\n",
    "- _PDF_ della distribuzione dei momenti delle particelle, come descritto in tabella <ins>[A.1]</ins>.\n",
    "- Frequenza relativa con cui appare ogni tipo di particella, come descritto in tabella <ins>[A.2]</ins>.\n",
    "\n",
    "Tutte le particelle generate vengono salvate in memoria fino alla simulazione dell'evento successivo.\n",
    "Per generare numeri secondo distribuzioni di probabilità, sono stati usati i metodi della classe `TRandom3` di _ROOT_."
   ]
  },
  {
   "cell_type": "markdown",
   "id": "12f9ba55-ca8b-4c4c-89fa-2bca26097a02",
   "metadata": {},
   "source": [
    "### 3.3. Decadimenti\n",
    "Non appena è generata una particella K*, viene rimossa e sostituita da una coppia $\\pi$/$\\kappa$ di segno opposto, per simulare il processo di decadimento. I prodotti del decadimento hanno la stessa energia della particella madre, divisa in modo casuale tra di loro.\n",
    "\n",
    "Per consentire la creazione di un istogramma di controllo, questi vengono marchiati, così da poterli distinguere dalle particelle generate normalmente. In un esperimento reale non sarebbe possibile distinguere tra particelle prodotte dal decadimento e particelle generate da una collisione."
   ]
  },
  {
   "cell_type": "markdown",
   "id": "9d9d9276-bee7-475b-a9c1-231a72ac61c5",
   "metadata": {},
   "source": [
    "## 4. Analisi dei dati"
   ]
  },
  {
   "cell_type": "markdown",
   "id": "b4f45af9-2bc4-45cb-8395-eb13e30362c8",
   "metadata": {
    "tags": []
   },
   "source": [
    "### 4.1. Correttezza dei dati generati\n",
    "- #### Abbondanza delle particelle\n",
    "  Il numero di particelle generato corrisponde con quanto inserito nei dati di input e la percentuale di occorrenze di ogni singola particella è compatibile con quanto specificato nel programma, entro le incertezze. I dati sono riassunti in <ins>[B.1]</ins> e <ins>[A.3]</ins>\n",
    "  \n",
    "- #### Distribuzione angoli azimutali e polari\n",
    "  Le distribuzioni attese sono uniformi. I risultati del fit, visibili in <ins>[B.2]</ins>, <ins>[B.3]</ins> e <ins>[A.4]</ins>, sono concordi con i valori attesi. Entrambi gli istogrammi sono divisi in $360$ bin e contengono $10^7$ elementi; il valore atteso per il parametro `p0` è: $10^7 / 360 = 2.778*10^4$, concorde con quanto ottenuto. Il fit è stato eseguito usando la funzione `pol0` di ROOT.\n",
    "  \n",
    "- #### Distribuzione modulo dell'impulso\n",
    "  La distribuzione attesa è esponenziale, con media uno. I risultati del fit, visibili in <ins>[B.4]</ins> <ins>[A.4]</ins>, sono concordi con i valori attesi. Il fit è stato eseguito usando la funzione `expo` di ROOT."
   ]
  },
  {
   "cell_type": "markdown",
   "id": "39ddf1d3-eac2-41c8-8f2e-6950889effd0",
   "metadata": {
    "tags": []
   },
   "source": [
    "### 4.2. Analisi degli istogrammi di massa invariante"
   ]
  },
  {
   "cell_type": "markdown",
   "id": "78ce1827-8d99-42f4-9d97-1cc064572fa8",
   "metadata": {},
   "source": [
    "Dal decadimento della K* si generano sempre coppie Pione-Kaone di segno opposto (come conseguenza della legge di conservazione della carica) e la cui massa invariante corrisponde proprio alla massa della K*. Questa osservazione permette di utilizzare il seguente approccio per estrarre il segnale della K*:\n",
    "\n",
    "1. Si calcolano le masse invarianti di tutte le possibili coppie Pione/Kaone di *segno opposto*.\n",
    "2. Si calcolano le masse invarianti di tutte le possibili coppie Pione/Kaone di *segno concorde*.\n",
    "3. Si raccolgono i dati in due istogrammi (verranno chiamati rispettivamente istogramma \"1\" e \"2\"). \n",
    "4. Si sottrae (2) da (1)\n",
    "\n",
    "Sia in (1) che in (2) si trovano dei picchi in corrispondenza di tutte le combinazioni di massa invariante delle particelle. In (1), però, visto che è presente una piccola quantità di coppie Pione/Kaone generate da decadimenti della K*, ci aspettiamo di trovare un altro picco proprio in corrispondenza della massa della K*. Il (2) permette di rimuovere il rumore di fondo da (1), evidenziando questo picco. In questo modo, ci si aspetta di ottenere un grafico risultante che segue la distribuzione della massa della K*, con deviazione standard corrispondente all'ampiezza di risonanza della particella.\n",
    "\n",
    "In natura questa distribuzione è una Lorenziana; tuttavia, per semplicità, nel programma di generazione è stata usata una distribuzione Gaussiana. Le funzioni di fit sono state scelte di conseguenza."
   ]
  },
  {
   "cell_type": "code",
   "execution_count": null,
   "id": "78c64744-16e4-4fbb-b8ff-20596fc3c840",
   "metadata": {},
   "outputs": [],
   "source": []
  },
  {
   "cell_type": "markdown",
   "id": "a7d64afd-cccc-46d7-a2da-1668e8fa76ac",
   "metadata": {},
   "source": [
    "L'istogramma ottenuto sottraendo (2) da (1) è consistente con quello ottenuto sottraendo (4) da (3)."
   ]
  },
  {
   "cell_type": "markdown",
   "id": "f7815fec-aaa2-4a8e-ae53-32434aa9cd51",
   "metadata": {
    "tags": []
   },
   "source": [
    "### 3. Analisi della massa della K*\n",
    "Ora possiamo analizzare i grafici ottenuti. Ci aspettiamo che i grafici appena ottenuti seguano una distribuzione gaussiana, con media corrispondente alla massa di K* e sigma corrispondente alla vita media di K*."
   ]
  },
  {
   "cell_type": "markdown",
   "id": "5afe55f9-ea1b-4c7b-bfe0-942261c57414",
   "metadata": {
    "tags": []
   },
   "source": [
    "Nota: se questi fossero dati reali, ci aspetteremmo una distribuzione _lorentziana_. Otteniamo una distribuzione gaussiana perchè durante la generazione dei dati, abbiamo usato un algoritmo semplificato per simulare il decadimento di K*, ottenendo questo comportamento."
   ]
  },
  {
   "cell_type": "code",
   "execution_count": null,
   "id": "a6735a2c-e0ba-4049-b0df-a04cc943d551",
   "metadata": {
    "tags": []
   },
   "outputs": [],
   "source": [
    "//cv->cd();\n",
    "//\n",
    "//InvMassPKSubtract->Fit(\"gaus\", \"QB\", \"\", 0, 2);\n",
    "//InvMassPKSubtract->Draw(\"hist\");\n",
    "//cv->Draw();"
   ]
  },
  {
   "cell_type": "markdown",
   "id": "7d15c751-5ee6-42e5-b011-989eb948a240",
   "metadata": {},
   "source": [
    "La distribuzione gaussiana fitta perfettamente il grafico e i dati ottenuti sono coerenti con quelli attesi (entro le incertezze)."
   ]
  },
  {
   "cell_type": "markdown",
   "id": "feeaaa8c-1561-4bcb-840e-adc1c10a69da",
   "metadata": {},
   "source": [
    "/*\n",
    "hists_[TraverseMomentumDist] = std::make_unique<TH1F>(\"TraverseMomentumDist\", \"Traverse momentum\", 500, 0, 4);\n",
    "    hists_[EnergyDist]           = std::make_unique<TH1F>(\"EnergyDist\", \"Energy\", 1000, 0, 6);\n",
    "    hists_[InvMass]              = std::make_unique<TH1F>(\"InvMass\", \"Invariant mass\", 500, 0, 8);\n",
    "*/"
   ]
  },
  {
   "cell_type": "markdown",
   "id": "9f71a1ad-c785-449e-ae29-293b17dea351",
   "metadata": {},
   "source": [
    "## Appendice A: Tabelle"
   ]
  },
  {
   "cell_type": "markdown",
   "id": "ed7e6d9f-1ca2-4b3e-897f-c48de113c1c6",
   "metadata": {},
   "source": [
    "<table>\n",
    "    <caption><b>Tabella A.1.</b> Parametri di generazione.</caption>\n",
    "    <tr>\n",
    "        <th>Parametro</th>\n",
    "        <th>Valore</th>\n",
    "    </tr>\n",
    "    <tr>\n",
    "        <td>n° eventi</td>\n",
    "        <td>10<sup>5</sup></td>\n",
    "    </tr>\n",
    "    <tr>\n",
    "        <td>n° particelle per evento</td>\n",
    "        <td>100</td>\n",
    "    </tr>\n",
    "    <tr>\n",
    "        <td><i>PDF</i> modulo del momento</td>\n",
    "        <td>Esponenziale, media 1</td>\n",
    "    </tr>\n",
    "    <tr>\n",
    "        <td><i>PDF</i> angoli azimutali e polari</td>\n",
    "        <td>Uniforme</td>\n",
    "    </tr>\n",
    "</table>\n",
    "<div style=\"page-break-after: always;\"></div>"
   ]
  },
  {
   "cell_type": "markdown",
   "id": "1306cf01-f0ba-4bf8-bee5-e2563b2f591f",
   "metadata": {},
   "source": [
    "<table>\n",
    "    <caption><b>Tabella A.2.</b> Probabilità di generazione delle particelle, configurazione inserita nel programma.</caption>\n",
    "    <tr>\n",
    "        <th>Particella</th>\n",
    "        <th>Probabilità relativa</th>\n",
    "    </tr>\n",
    "    <tr>\n",
    "        <td>$\\pi$+</td>\n",
    "        <td>40.0%</td>\n",
    "    </tr>\n",
    "    <tr>\n",
    "        <td>$\\pi$-</td>\n",
    "        <td>40.0%</td>\n",
    "    </tr>\n",
    "    <tr>\n",
    "        <td>$\\kappa$+</td>\n",
    "        <td>5.0%</td>\n",
    "    </tr>\n",
    "    <tr>\n",
    "        <td>$\\kappa$-</td>\n",
    "        <td>5.0%</td>\n",
    "    </tr>\n",
    "    <tr>\n",
    "        <td>p+</td>\n",
    "        <td>4.5%</td>\n",
    "    </tr>\n",
    "    <tr>\n",
    "        <td>p-</td>\n",
    "        <td>4.5%</td>\n",
    "    </tr>\n",
    "    <tr>\n",
    "        <td>$\\kappa$*</td>\n",
    "        <td>1.0%</td>\n",
    "    </tr>\n",
    "</table>\n",
    "<div style=\"page-break-after: always;\"></div>"
   ]
  },
  {
   "cell_type": "markdown",
   "id": "11daa857-13bc-4459-88fd-c055ccf66b7c",
   "metadata": {},
   "source": [
    "<table>\n",
    "    <caption><b>Tabella A.3.</b> Abbondanza delle particelle generate, cofrontata con il valore atteso. Le incertezze sui valori osservati sono valutate usando la regola della radice.</caption>\n",
    "    <tr>\n",
    "        <th>Particella</th>\n",
    "        <th>Numero atteso ($10^5$ occorrenze)</th>\n",
    "        <th>Numero ottenuto ($10^3$ occorrenze) </th>\n",
    "        <th>Percentuale attesa</th>\n",
    "        <th>Percentuale ottenuta</th>\n",
    "    </tr>\n",
    "    <tr>\n",
    "        <td>$\\pi$+</td>\n",
    "        <td>40</td>\n",
    "        <td>3999 $\\pm$ 2</td>\n",
    "        <td>40.0%</td>\n",
    "        <td>40.0%</td>\n",
    "    </tr>\n",
    "    <tr>\n",
    "        <td>$\\pi$-</td>\n",
    "        <td>40</td>\n",
    "        <td>4000 $\\pm$ 2</td>\n",
    "        <td>40.0%</td>\n",
    "        <td>40.0%</td>\n",
    "    </tr>\n",
    "    <tr>\n",
    "        <td>$\\kappa$+</td>\n",
    "        <td>5</td>\n",
    "        <td>500.3 $\\pm$ 0.7</td>\n",
    "        <td>5.0%</td>\n",
    "        <td>5.0%</td>\n",
    "    </tr>\n",
    "    <tr>\n",
    "        <td>$\\kappa$-</td>\n",
    "        <td>5</td>\n",
    "        <td>500.1 $\\pm$ 0.7</td>\n",
    "        <td>5.0%</td>\n",
    "        <td>5.0%</td>\n",
    "    </tr>\n",
    "    <tr>\n",
    "        <td>p+</td>\n",
    "        <td>4.5</td>\n",
    "        <td>449.0 $\\pm$ 0.7</td>\n",
    "        <td>4.5%</td>\n",
    "        <td>4.5%</td>\n",
    "    </tr>\n",
    "    <tr>\n",
    "        <td>p-</td>\n",
    "        <td>4.5</td>\n",
    "        <td>450.7 $\\pm$ 0.7</td>\n",
    "        <td>4.5%</td>\n",
    "        <td>4.5%</td>\n",
    "    </tr>\n",
    "    <tr>\n",
    "        <td>$\\kappa$*</td>\n",
    "        <td>1</td>\n",
    "        <td>100.5 $\\pm$ 0.3</td>\n",
    "        <td>1.0%</td>\n",
    "        <td>1.0%</td>\n",
    "    </tr>\n",
    "    <tr>\n",
    "        <td><b>Totale</b></td>\n",
    "        <td>100</td>\n",
    "        <td>10000 $\\pm$ 7</td>\n",
    "        <td>100.0%</td>\n",
    "        <td>100.0%</td>\n",
    "    </tr>\n",
    "</table>\n",
    "<div style=\"page-break-after: always;\"></div>"
   ]
  },
  {
   "cell_type": "markdown",
   "id": "2fc097b1-462b-4a5b-a777-296f58d401af",
   "metadata": {},
   "source": [
    "<table>\n",
    "    <caption><b>Tabella A.4.</b> Distribuzioni ottenute di angoli polari, azimutali e modulo dell'impulso.</caption>\n",
    "    <tr>\n",
    "        <th>Distribuzione</th>\n",
    "        <th>Nome parametro del fit</th>\n",
    "        <th>Valore parametro</th>\n",
    "        <th>${\\chi}^2$</th>\n",
    "        <th>DOF</th>\n",
    "        <th>${\\chi}^2$/ DOF</th>\n",
    "    </tr>\n",
    "    <tr>\n",
    "        <td>Angolo azimutale $\\phi$ (<code>pol0</code>)</td>\n",
    "        <td>p0 (intercetta)</td>\n",
    "        <td>27780 $\\pm$ 90</td>\n",
    "        <td>357.6</td>\n",
    "        <td>359</td>\n",
    "        <td>0.996</td>\n",
    "    </tr>\n",
    "    <tr>\n",
    "        <td>Angolo polare $\\theta$ (<code>pol0</code>)</td>\n",
    "        <td>p0 (intercetta)</td>\n",
    "        <td>27780 $\\pm$ 90</td>\n",
    "        <td>337.2</td>\n",
    "        <td>359</td>\n",
    "        <td>0.939</td>\n",
    "    </tr>\n",
    "    <tr>\n",
    "        <td>Modulo dell'impulso (<code>expo</code>)</td>\n",
    "        <td>Slope (media esponenziale)</td>\n",
    "        <td>1.0004 $\\pm$ 0.0003</td>\n",
    "        <td>527.2</td>\n",
    "        <td>498</td>\n",
    "        <td>1.06</td>\n",
    "    </tr>\n",
    "</table>\n",
    "<div style=\"page-break-after: always;\"></div>"
   ]
  },
  {
   "cell_type": "markdown",
   "id": "127e691f-650d-4be3-a22a-b210e1df7abb",
   "metadata": {
    "tags": []
   },
   "source": [
    "# Appendice B: Grafici"
   ]
  },
  {
   "cell_type": "markdown",
   "id": "633ea993-e398-456e-8579-4ac7705c7e38",
   "metadata": {},
   "source": [
    "<img src=\"../graphs/4_1.svg\"/>"
   ]
  },
  {
   "cell_type": "markdown",
   "id": "ae6f7a90-840b-4091-bd26-4157d7068ec9",
   "metadata": {},
   "source": [
    "lkjn"
   ]
  },
  {
   "cell_type": "markdown",
   "id": "c252fe70-9304-4e5d-b715-353ebee7d09d",
   "metadata": {},
   "source": [
    "# Appendice C: Codice"
   ]
  },
  {
   "cell_type": "code",
   "execution_count": null,
   "id": "ac881bac-d3ad-48a4-bcbe-2fbc935a3b1c",
   "metadata": {},
   "outputs": [],
   "source": []
  }
 ],
 "metadata": {
  "kernelspec": {
   "display_name": "ROOT C++",
   "language": "c++",
   "name": "root"
  },
  "language_info": {
   "codemirror_mode": "text/x-c++src",
   "file_extension": ".C",
   "mimetype": " text/x-c++src",
   "name": "c++"
  }
 },
 "nbformat": 4,
 "nbformat_minor": 5
}
