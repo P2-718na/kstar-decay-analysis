{
 "cells": [
  {
   "cell_type": "markdown",
   "id": "e15b5dc6-538e-4fa3-b2ce-b37687ec91b6",
   "metadata": {},
   "source": [
    "# Analisi statistica dei dati relativi al decadimento della particella K*"
   ]
  },
  {
   "cell_type": "markdown",
   "id": "12a25e22-d316-4964-ba71-8c458289bbf7",
   "metadata": {},
   "source": [
    "## 1. Introduzione\n",
    "La particella K* è altamente instabile, e ha una vita media di 10<sup>-11</sup> secondi. Per questo motivo, se ne si vuole provarne l'esistenza si è costretti a ricorrere a metodi statistici, piuttosto che a a metodi di rilevamento diretto; questo è lo scopo della presente esperienza di laboratorio. L'analisi statistica che è stata svolta è basata su dati ottenuti tramite una simulazione. In particolare, il codice che è stato scritto scritto si occupa di:\n",
    "\n",
    "1. Simulare degli eventi di collisione dell'esperimento _ALICE_ tramite il metodo di generazione Montecarlo.\n",
    "2. Analizzare i dati raccolti, dimostrare l'esistenza della particella K* e verificare i risultati ottenuti con un istogramma di controllo."
   ]
  },
  {
   "cell_type": "markdown",
   "id": "866a3433-18b3-4e5d-b8ec-ba9335f1310c",
   "metadata": {},
   "source": [
    "## 2. Struttura del codice\n",
    "Il codice di simulazione è stato realizzato in _C++_ e fa un uso intensivo delle librerie _ROOT_. È stato scelto un approccio diverso da quello consigliato, in modo da espandere ancora di più le possibilità di reimpiego del codice. Segue una breve descrizione di quello che è stato sviluppato."
   ]
  },
  {
   "cell_type": "markdown",
   "id": "67696b14-38d1-49a5-b35e-354d7a6f0c8a",
   "metadata": {},
   "source": [
    "### 2.1. Classi implementate\n",
    "Sono state implementate due classi virtuali: `Entity` ed `Experiment`.\n",
    "\n",
    "- #### Entity\n",
    "  Una _Entity_ rappresenta una generica entità rilevabile da un esperimento (i.e. particella o risonanza), a cui sono associate una quantità di moto, una carica e una massa. Una _Entity_ può essere solo di un numero finito di tipi, ognuno definito da tre proprietà: carica, massa e larghezza di risonanza (quest'ultima esiste solo per le risonanze). Ogni tipo è implementato tramite una classe derivata di `Entity`, in cui sono dichiarate le rispettive proprietà; per risparmiare memoria, sono dichiarate come `static`.  \n",
    "  I metodi e le proprietà condivise tra tutti i tipi, invece, sono salvati nella classe base `Entity`.\n",
    "  \n",
    "- #### Experiment\n",
    "  La classe `Experiment` rappresenta un esperimento dell'_LHC_. Il codice che si occupa di simulare gli eventi di collisione e raccogliere i dati risiede qua. Per dare la possibilità di riutilizzare questo programma per esperimenti diversi, ogni esperimento è implementato tramite una classe derivata di `Experiment`. L'esperimento che interessa a noi è implementato in `KaonSDecay` ed è descritto accuratamente in <ins>[3. Generazione di dati]</ins>."
   ]
  },
  {
   "cell_type": "markdown",
   "id": "506f8636-dcc7-4c70-97bf-eb4ee22a5b75",
   "metadata": {},
   "source": [
    "### 2.2. Meccanismi di reimpiego\n",
    "Il polimorfismo dinamico ha reso possibile sviluppare il codice con una struttura modulare. Per aggiungere nuovi tipi di particelle o esperimenti, basta semplicemente aggiungere un file in cui se ne definiscono le proprietà. Tutto questo è stato realizzato prestando particolare attenzione all'utilizzo delle risorse di calcolo: non sono presenti né dati duplicati né linee di codice ridondanti.\n",
    "\n",
    "Il codice usato per la simulazione dei dati è disponibile interamente su\n",
    "GitHub\\[1\\], insieme ad ulteriori informazioni e istruzioni per la\n",
    "compilazione.\n",
    "\n",
    "\\[1\\]: https://github.com/P2-718na/ALICE-simulation"
   ]
  },
  {
   "cell_type": "markdown",
   "id": "1bf4ed8b-3d0d-45b9-86c3-32c0621392b3",
   "metadata": {
    "tags": []
   },
   "source": [
    "## 3. Generazione dei dati"
   ]
  },
  {
   "cell_type": "markdown",
   "id": "0e6357be-d536-4f19-b368-b6a507ba74b6",
   "metadata": {},
   "source": [
    "### 3.1. Funzionamento del programma\n",
    "Il numero di eventi di un esperimento di _ALICE_ è dell'ordine di 10<sup>5</sup>-10<sup>7</sup>, ognuno dei quali conta 10<sup>2</sup>-10<sup>4</sup> particelle. Il programma simula gli eventi uno ad uno, svolgendo le seguenti operazioni:\n",
    "\n",
    "1. Viene generato un certo numero di particelle <ins>[3.2. Generazione delle particelle]</ins>.\n",
    "2. Vengono fatte decadere le particelle instabili <ins>[3.3. Decadimenti]</ins>.\n",
    "3. Vengono inseriti tutti i dati raccolti in un istogramma di _ROOT_.\n",
    "4. Viene ripulita la memoria prima dell'evento successivo."
   ]
  },
  {
   "cell_type": "markdown",
   "id": "1b36db8c-8583-4a1f-85aa-5bc23c35ad4a",
   "metadata": {},
   "source": [
    "### 3.2. Generazione delle particelle\n",
    "In ogni evento, è presente solo un numero limitato di tipi di particelle, tutte indistingubili tra loro. Per la loro generazione, quindi, si è tenuto conto solamente di:\n",
    "\n",
    "- _PDF_ della distribuzione dei momenti delle particelle, come descritto in tabella <ins>[A.1]</ins>.\n",
    "- Frequenza relativa con cui appare ogni tipo di particella, come descritto in tabella <ins>[A.2]</ins>.\n",
    "\n",
    "Tutte le particelle generate vengono salvate in memoria fino alla simulazione dell'evento successivo.\n",
    "Per generare numeri secondo distribuzioni di probabilità, sono stati usati i metodi della classe `TRandom3` di _ROOT_."
   ]
  },
  {
   "cell_type": "markdown",
   "id": "12f9ba55-ca8b-4c4c-89fa-2bca26097a02",
   "metadata": {},
   "source": [
    "### 3.3. Decadimenti\n",
    "Non appena è generata una particella K*, viene rimossa e sostituita da una coppia $\\pi$/$\\kappa$ di segno opposto, per simulare il processo di decadimento. I prodotti del decadimento hanno la stessa energia della particella madre, divisa in modo casuale tra di loro.\n",
    "\n",
    "Per consentire la creazione di un istogramma di controllo, questi vengono marchiati, così da poterli distinguere dalle particelle generate normalmente. In un esperimento reale non sarebbe possibile distinguere tra particelle prodotte dal decadimento e particelle generate da una collisione."
   ]
  },
  {
   "cell_type": "markdown",
   "id": "9d9d9276-bee7-475b-a9c1-231a72ac61c5",
   "metadata": {},
   "source": [
    "## 4. Analisi dei dati"
   ]
  },
  {
   "cell_type": "markdown",
   "id": "b4f45af9-2bc4-45cb-8395-eb13e30362c8",
   "metadata": {
    "tags": []
   },
   "source": [
    "### 4.1. Correttezza dei dati generati\n",
    "I dati generati sono congruenti con quanto ci si aspettava. Segue un analisi più dettagliata degli istogrammi ottenuti.\n",
    "\n",
    "- #### Abbondanza delle particelle\n",
    "  Il numero di particelle generato corrisponde con quanto inserito nei dati di input. La percentuale di occorrenze di ogni singola particella è compatibile con quanto specificato nel programma. I dati sono riassunti in <ins>[B.3]</ins> e <ins>[A.3]</ins>"
   ]
  },
  {
   "cell_type": "markdown",
   "id": "f69efa4e-c51c-4b23-980b-d50c409826cc",
   "metadata": {
    "tags": []
   },
   "source": [
    "  1. Verifichiamo che il numero di ingressi sia dell'ordine di 10<sup>7</sup>. Il numero di ingressi può variare visto che, quando viene generata una K*, questa decade. I prodotti del decadimento sono considerati solo negli istogrammi di massa invariante, mentre le risonanze K* vengono considerate solo nei rimanenti istogrammi.\n",
    "\n",
    "Il numero è corretto, e può essere visualizzato negli istogrammi che seguono."
   ]
  },
  {
   "cell_type": "markdown",
   "id": "fb8cfad8-4443-4e25-98b6-5b2ea1d32715",
   "metadata": {},
   "source": [
    "  2. Verifichiamo che i tipi di particelle generate seguono le proporzioni fissate, entro gli errori statistici."
   ]
  },
  {
   "cell_type": "markdown",
   "id": "8431d511-aa5c-49d7-b9f6-46036919edc1",
   "metadata": {},
   "source": [
    "  3. Verifichiamo che le distribuzioni angolari siano uniformi:"
   ]
  },
  {
   "cell_type": "code",
   "execution_count": 1,
   "id": "8286fe1d-50f8-494f-9a5d-f0c56bc257f7",
   "metadata": {},
   "outputs": [],
   "source": [
    "TF1* angleFit = new TF1(\"angleFit\", \"[0]\", 10000);\n",
    "\n",
    "angleFit->SetParNames(\"A\");"
   ]
  },
  {
   "cell_type": "code",
   "execution_count": 2,
   "id": "5363d453-81f5-41de-8719-d0b7d0704d1b",
   "metadata": {},
   "outputs": [
    {
     "name": "stderr",
     "output_type": "stream",
     "text": [
      "\u001b[1minput_line_51:2:3: \u001b[0m\u001b[0;1;31merror: \u001b[0m\u001b[1muse of undeclared identifier 'AzimuthAngleDist'\u001b[0m\n",
      " (AzimuthAngleDist->Fit(((*(class TF1 **)0x1174720f0)), \"Q\"))\n",
      "\u001b[0;1;32m  ^\n",
      "\u001b[0mError in <HandleInterpreterException>: Error evaluating expression (AzimuthAngleDist->Fit(((*(class TF1 **)0x1174720f0)), \"Q\")).\n",
      "Execution of your code was aborted.\n"
     ]
    }
   ],
   "source": [
    "AzimuthAngleDist->Fit(angleFit, \"Q\");\n",
    "\n",
    "AzimuthAngleDist->SetFillColor(7);\n",
    "AzimuthAngleDist->Draw();\n",
    "angleFit->Draw(\"SAME\");\n",
    "\n",
    "cv->Draw();"
   ]
  },
  {
   "cell_type": "code",
   "execution_count": 3,
   "id": "8801d7d1-2190-4898-9024-ac0e6f94dbb7",
   "metadata": {},
   "outputs": [
    {
     "name": "stderr",
     "output_type": "stream",
     "text": [
      "\u001b[1minput_line_53:2:3: \u001b[0m\u001b[0;1;31merror: \u001b[0m\u001b[1muse of undeclared identifier 'PolarAngleDist'\u001b[0m\n",
      " (PolarAngleDist->Fit(((*(class TF1 **)0x1174720f0)), \"Q\"))\n",
      "\u001b[0;1;32m  ^\n",
      "\u001b[0mError in <HandleInterpreterException>: Error evaluating expression (PolarAngleDist->Fit(((*(class TF1 **)0x1174720f0)), \"Q\")).\n",
      "Execution of your code was aborted.\n"
     ]
    }
   ],
   "source": [
    "PolarAngleDist->Fit(angleFit, \"Q\");\n",
    "\n",
    "PolarAngleDist->SetFillColor(7);\n",
    "PolarAngleDist->Draw();\n",
    "angleFit->Draw(\"SAME\");\n",
    "\n",
    "cv->Draw();"
   ]
  },
  {
   "cell_type": "markdown",
   "id": "57c04b7e-c2d3-43b3-8f47-90b5256e95e7",
   "metadata": {},
   "source": [
    "  Eseguendo un fit uniforme `y = A` dei due grafici, otteniamo valori coerenti con una distribuzione uniforme:\n",
    "  \n",
    "|   Grafico        | Parametro | Valore atteso | Valore ottenuto |\n",
    "|------------------|-----------|---------------|-----------------|\n",
    "| Angolo azimutale | A         | 10<sup>5</sup>| 99,990 ± 30     | \n",
    "| Angolo polare    | A         | 10<sup>5</sup>| 99,990 ± 30     |"
   ]
  },
  {
   "cell_type": "markdown",
   "id": "5eae6111-458d-4175-ad78-4ec8c1804496",
   "metadata": {},
   "source": [
    "  4. Verifichiamo che la distribuzione dell'impulso sia una funzione esponenziale con media 1: "
   ]
  },
  {
   "cell_type": "code",
   "execution_count": 4,
   "id": "a2532822-2dee-4858-ad63-8de8bd77c384",
   "metadata": {},
   "outputs": [
    {
     "name": "stderr",
     "output_type": "stream",
     "text": [
      "\u001b[1minput_line_55:2:3: \u001b[0m\u001b[0;1;31merror: \u001b[0m\u001b[1muse of undeclared identifier 'MomentumDist'\u001b[0m\n",
      " (MomentumDist->SetFillColor(7))\n",
      "\u001b[0;1;32m  ^\n",
      "\u001b[0mError in <HandleInterpreterException>: Error evaluating expression (MomentumDist->SetFillColor(7)).\n",
      "Execution of your code was aborted.\n"
     ]
    }
   ],
   "source": [
    "MomentumDist->SetFillColor(7);\n",
    "MomentumDist->Fit(\"expo\");\n",
    "MomentumDist->Draw();\n",
    "\n",
    "cv->Draw();"
   ]
  },
  {
   "cell_type": "markdown",
   "id": "c04734cf-547a-4059-965a-33b34f661b3e",
   "metadata": {},
   "source": [
    "Eseguendo un fit esponenziale del grafico, otteniamo valori coerenti con una distribuzione esponenziale. In particolare, il parametro `t = -1 / Slope` vale:\n",
    "\n",
    "|   Grafico | Parametro | Valore atteso | Valore ottenuto |\n",
    "|-----------|-----------|---------------|-----------------|\n",
    "| Momento   | 7         | 1             | 1.000 ± 0.001   | "
   ]
  },
  {
   "cell_type": "markdown",
   "id": "39ddf1d3-eac2-41c8-8f2e-6950889effd0",
   "metadata": {},
   "source": [
    "### 2. Analisi degli istogrammi di massa invariante\n",
    "Analizziamo gli istogrammi della massa invariante, calcolata rispetto a diverse coppie di particelle. Importiamo gli istrogrammi:"
   ]
  },
  {
   "cell_type": "code",
   "execution_count": 5,
   "id": "4a149aec-00e9-47d2-a186-1dff8e07dbe6",
   "metadata": {},
   "outputs": [
    {
     "name": "stderr",
     "output_type": "stream",
     "text": [
      "\u001b[1minput_line_57:2:11: \u001b[0m\u001b[0;1;31merror: \u001b[0m\u001b[1muse of undeclared identifier 'histograms'\u001b[0m\n",
      " ((TH1F *)histograms->Get(\"InvMassOppCharge\"))\n",
      "\u001b[0;1;32m          ^\n",
      "\u001b[0mError in <HandleInterpreterException>: Error evaluating expression ((TH1F *)histograms->Get(\"InvMassOppCharge\")).\n",
      "Execution of your code was aborted.\n"
     ]
    }
   ],
   "source": [
    "TH1F* InvMassOppCharge    = (TH1F*)histograms->Get(\"InvMassOppCharge\");    // (1)\n",
    "TH1F* InvMassSameCharge   = (TH1F*)histograms->Get(\"InvMassSameCharge\");   // (2)\n",
    "TH1F* InvMassPKOppCharge  = (TH1F*)histograms->Get(\"InvMassPKOppCharge\");  // (3)\n",
    "TH1F* InvMassPKSameCharge = (TH1F*)histograms->Get(\"InvMassPKSameCharge\"); // (4)\n",
    "TH1F* InvMassPKCouple     = (TH1F*)histograms->Get(\"InvMassPKCouple\");     // (5)"
   ]
  },
  {
   "cell_type": "markdown",
   "id": "64809fe9-e41a-4cac-b83b-05fdf527092f",
   "metadata": {},
   "source": [
    "Nota: l'istogramma (5) è un istogramma di controllo, e non sarebbe ottenibile nel mondo reale. Il motivo è che questo istogramma raccoglie la massa invariante calcolata _solo tra le coppie di particelle generate dai decadimenti_. Grazie alla nostra simulazione, è facile risalire a quali sono queste coppie, ma nel mondo reale ciò sarebbe impossiible."
   ]
  },
  {
   "cell_type": "markdown",
   "id": "78ce1827-8d99-42f4-9d97-1cc064572fa8",
   "metadata": {},
   "source": [
    "  1. Sappiamo che dal decadimento della K*, si generano coppie Pione-Kaone di segno opposto (come conseguenza della legge di conservazione della carica). Questo significa che, tra tutte le particelle generate, il numero di coppie  Pione-Kaone di segno opposto sarà leggermente più alto di quelle di segno concorde. Di conseguenza, sottraendo il grafico (4) dal (3), ci aspettiamo di ottenere un picco in corrispondenza della massa della K*, consistente con il grafico (5)."
   ]
  },
  {
   "cell_type": "code",
   "execution_count": 6,
   "id": "c15c07a5-ae55-4924-8533-87a853e25a20",
   "metadata": {},
   "outputs": [
    {
     "name": "stdout",
     "output_type": "stream",
     "text": [
      "[/Users/matteo/local/root/root_v6.24.06/lib/libCling.so] cling_runtime_internal_throwIfInvalidPointer (no debug info)\n",
      "[<unknown binary>] (no debug info)\n",
      "[<unknown binary>] (no debug info)\n",
      "[/Users/matteo/local/root/root_v6.24.06/lib/libCling.so] cling::IncrementalExecutor::executeInit(llvm::StringRef) const (no debug info)\n",
      "[/Users/matteo/local/root/root_v6.24.06/lib/libCling.so] cling::IncrementalExecutor::runStaticInitializersOnce(cling::Transaction&) (no debug info)\n",
      "[/Users/matteo/local/root/root_v6.24.06/lib/libCling.so] cling::Interpreter::executeTransaction(cling::Transaction&) (no debug info)\n",
      "[/Users/matteo/local/root/root_v6.24.06/lib/libCling.so] cling::IncrementalParser::commitTransaction(llvm::PointerIntPair<cling::Transaction*, 2u, cling::IncrementalParser::EParseResult, llvm::PointerLikeTypeTraits<cling::Transaction*>, llvm::PointerIntPairInfo<cling::Transaction*, 2u, llvm::PointerLikeTypeTraits<cling::Transaction*> > >&, bool) (no debug info)\n",
      "[/Users/matteo/local/root/root_v6.24.06/lib/libCling.so] cling::IncrementalParser::Compile(llvm::StringRef, cling::CompilationOptions const&) (no debug info)\n",
      "[/Users/matteo/local/root/root_v6.24.06/lib/libCling.so] cling::Interpreter::EvaluateInternal(std::__1::basic_string<char, std::__1::char_traits<char>, std::__1::allocator<char> > const&, cling::CompilationOptions, cling::Value*, cling::Transaction**, unsigned long) (no debug info)\n",
      "[/Users/matteo/local/root/root_v6.24.06/lib/libCling.so] cling::Interpreter::process(std::__1::basic_string<char, std::__1::char_traits<char>, std::__1::allocator<char> > const&, cling::Value*, cling::Transaction**, bool) (no debug info)\n",
      "[/Users/matteo/local/root/root_v6.24.06/lib/libCling.so] cling::MetaProcessor::process(llvm::StringRef, cling::Interpreter::CompilationResult&, cling::Value*, bool) (no debug info)\n",
      "[/Users/matteo/local/root/root_v6.24.06/lib/libCling.so] HandleInterpreterException(cling::MetaProcessor*, char const*, cling::Interpreter::CompilationResult&, cling::Value*) (no debug info)\n",
      "[/Users/matteo/local/root/root_v6.24.06/lib/libCling.so] TCling::ProcessLine(char const*, TInterpreter::EErrorCode*) (no debug info)\n",
      "[/Users/matteo/local/root/pro/lib/libJupyROOT2_7.so] JupyROOTExecutorImpl(char const*) (no debug info)\n",
      "[/Users/matteo/local/root/pro/lib/libJupyROOT2_7.so] JupyROOTExecutor(_object*, _object*) (no debug info)\n",
      "[/usr/local/Cellar/python@2/2.7.17_1/Frameworks/Python.framework/Versions/2.7/Python] PyEval_EvalFrameEx (no debug info)\n",
      "[/usr/local/Cellar/python@2/2.7.17_1/Frameworks/Python.framework/Versions/2.7/Python] fast_function (no debug info)\n",
      "[/usr/local/Cellar/python@2/2.7.17_1/Frameworks/Python.framework/Versions/2.7/Python] PyEval_EvalFrameEx (no debug info)\n",
      "[/usr/local/Cellar/python@2/2.7.17_1/Frameworks/Python.framework/Versions/2.7/Python] fast_function (no debug info)\n",
      "[/usr/local/Cellar/python@2/2.7.17_1/Frameworks/Python.framework/Versions/2.7/Python] PyEval_EvalFrameEx (no debug info)\n",
      "[/usr/local/Cellar/python@2/2.7.17_1/Frameworks/Python.framework/Versions/2.7/Python] fast_function (no debug info)\n",
      "[/usr/local/Cellar/python@2/2.7.17_1/Frameworks/Python.framework/Versions/2.7/Python] PyEval_EvalFrameEx (no debug info)\n",
      "[/usr/local/Cellar/python@2/2.7.17_1/Frameworks/Python.framework/Versions/2.7/Python] PyEval_EvalCodeEx (no debug info)\n",
      "[/usr/local/Cellar/python@2/2.7.17_1/Frameworks/Python.framework/Versions/2.7/Python] function_call (no debug info)\n",
      "[/usr/local/Cellar/python@2/2.7.17_1/Frameworks/Python.framework/Versions/2.7/Python] PyObject_Call (no debug info)\n",
      "[/usr/local/Cellar/python@2/2.7.17_1/Frameworks/Python.framework/Versions/2.7/Python] instancemethod_call (no debug info)\n",
      "[/usr/local/Cellar/python@2/2.7.17_1/Frameworks/Python.framework/Versions/2.7/Python] PyObject_Call (no debug info)\n",
      "[/usr/local/Cellar/python@2/2.7.17_1/Frameworks/Python.framework/Versions/2.7/Python] PyEval_CallObjectWithKeywords (no debug info)\n",
      "[/usr/local/Cellar/python@2/2.7.17_1/Frameworks/Python.framework/Versions/2.7/Python] t_bootstrap (no debug info)\n",
      "[/usr/local/Cellar/python@2/2.7.17_1/Frameworks/Python.framework/Versions/2.7/Python] pythread_wrapper (no debug info)\n",
      "[/usr/lib/system/libsystem_pthread.dylib] _pthread_body (no debug info)\n",
      "[/usr/lib/system/libsystem_pthread.dylib] _pthread_start (no debug info)\n",
      "[/usr/lib/system/libsystem_pthread.dylib] thread_start (no debug info)\n"
     ]
    },
    {
     "name": "stderr",
     "output_type": "stream",
     "text": [
      "Error in <HandleInterpreterException>: Trying to dereference null pointer or trying to call routine taking non-null arguments.\n",
      "Execution of your code was aborted.\n",
      "\u001b[1minput_line_58:2:38: \u001b[0m\u001b[0;1;35mwarning: \u001b[0m\u001b[1mnull passed to a callee that requires a non-null argument [-Wnonnull]\u001b[0m\n",
      " TH1F* InvMassPKSubtract = new TH1F(*InvMassPKSameCharge) ;\n",
      "\u001b[0;1;32m                                     ^~~~~~~~~~~~~~~~~~~\n",
      "\u001b[0m"
     ]
    }
   ],
   "source": [
    "TH1F* InvMassPKSubtract = new TH1F(*InvMassPKSameCharge) ;\n",
    "InvMassPKSubtract->SetTitle(\"InvMassPKSubtract\");\n",
    "InvMassPKSubtract->Add(InvMassPKSameCharge, InvMassPKOppCharge, -1, 1); // (3) - (4)\n",
    "\n",
    "TCanvas* cv2 = new TCanvas();\n",
    "cv2->Divide(2, 1);\n",
    "\n",
    "cv2->cd(1);\n",
    "InvMassPKSubtract->SetFillColor(7);\n",
    "InvMassPKSubtract->SetAxisRange (0.4, 1.4);\n",
    "InvMassPKSubtract->Draw(\"hist\");\n",
    "\n",
    "cv2->cd(2);\n",
    "InvMassPKCouple->SetFillColor(7);\n",
    "InvMassPKCouple->Draw(\"hist\");\n",
    "cv2->Draw();"
   ]
  },
  {
   "cell_type": "markdown",
   "id": "6297f5ef-cce3-4674-be56-6fcd4fdd3f73",
   "metadata": {},
   "source": [
    "I due istogrammi ottenuti sono consistenti, con un picco attorno al valore atteso di `0.89`."
   ]
  },
  {
   "cell_type": "markdown",
   "id": "03a62d8e-b196-4b0c-9754-9b21f8bc525c",
   "metadata": {},
   "source": [
    "  2. Eseguiamo la stessa operazione con i grafici (1) e (2). Ci aspettiamo dei risultati consistenti."
   ]
  },
  {
   "cell_type": "code",
   "execution_count": 7,
   "id": "78c64744-16e4-4fbb-b8ff-20596fc3c840",
   "metadata": {},
   "outputs": [
    {
     "name": "stdout",
     "output_type": "stream",
     "text": [
      "[/Users/matteo/local/root/root_v6.24.06/lib/libCling.so] cling_runtime_internal_throwIfInvalidPointer (no debug info)\n",
      "[<unknown binary>] (no debug info)\n",
      "[<unknown binary>] (no debug info)\n",
      "[/Users/matteo/local/root/root_v6.24.06/lib/libCling.so] cling::IncrementalExecutor::executeInit(llvm::StringRef) const (no debug info)\n",
      "[/Users/matteo/local/root/root_v6.24.06/lib/libCling.so] cling::IncrementalExecutor::runStaticInitializersOnce(cling::Transaction&) (no debug info)\n",
      "[/Users/matteo/local/root/root_v6.24.06/lib/libCling.so] cling::Interpreter::executeTransaction(cling::Transaction&) (no debug info)\n",
      "[/Users/matteo/local/root/root_v6.24.06/lib/libCling.so] cling::IncrementalParser::commitTransaction(llvm::PointerIntPair<cling::Transaction*, 2u, cling::IncrementalParser::EParseResult, llvm::PointerLikeTypeTraits<cling::Transaction*>, llvm::PointerIntPairInfo<cling::Transaction*, 2u, llvm::PointerLikeTypeTraits<cling::Transaction*> > >&, bool) (no debug info)\n",
      "[/Users/matteo/local/root/root_v6.24.06/lib/libCling.so] cling::IncrementalParser::Compile(llvm::StringRef, cling::CompilationOptions const&) (no debug info)\n",
      "[/Users/matteo/local/root/root_v6.24.06/lib/libCling.so] cling::Interpreter::EvaluateInternal(std::__1::basic_string<char, std::__1::char_traits<char>, std::__1::allocator<char> > const&, cling::CompilationOptions, cling::Value*, cling::Transaction**, unsigned long) (no debug info)\n",
      "[/Users/matteo/local/root/root_v6.24.06/lib/libCling.so] cling::Interpreter::process(std::__1::basic_string<char, std::__1::char_traits<char>, std::__1::allocator<char> > const&, cling::Value*, cling::Transaction**, bool) (no debug info)\n",
      "[/Users/matteo/local/root/root_v6.24.06/lib/libCling.so] cling::MetaProcessor::process(llvm::StringRef, cling::Interpreter::CompilationResult&, cling::Value*, bool) (no debug info)\n",
      "[/Users/matteo/local/root/root_v6.24.06/lib/libCling.so] HandleInterpreterException(cling::MetaProcessor*, char const*, cling::Interpreter::CompilationResult&, cling::Value*) (no debug info)\n",
      "[/Users/matteo/local/root/root_v6.24.06/lib/libCling.so] TCling::ProcessLine(char const*, TInterpreter::EErrorCode*) (no debug info)\n",
      "[/Users/matteo/local/root/pro/lib/libJupyROOT2_7.so] JupyROOTExecutorImpl(char const*) (no debug info)\n",
      "[/Users/matteo/local/root/pro/lib/libJupyROOT2_7.so] JupyROOTExecutor(_object*, _object*) (no debug info)\n",
      "[/usr/local/Cellar/python@2/2.7.17_1/Frameworks/Python.framework/Versions/2.7/Python] PyEval_EvalFrameEx (no debug info)\n",
      "[/usr/local/Cellar/python@2/2.7.17_1/Frameworks/Python.framework/Versions/2.7/Python] fast_function (no debug info)\n",
      "[/usr/local/Cellar/python@2/2.7.17_1/Frameworks/Python.framework/Versions/2.7/Python] PyEval_EvalFrameEx (no debug info)\n",
      "[/usr/local/Cellar/python@2/2.7.17_1/Frameworks/Python.framework/Versions/2.7/Python] fast_function (no debug info)\n",
      "[/usr/local/Cellar/python@2/2.7.17_1/Frameworks/Python.framework/Versions/2.7/Python] PyEval_EvalFrameEx (no debug info)\n",
      "[/usr/local/Cellar/python@2/2.7.17_1/Frameworks/Python.framework/Versions/2.7/Python] fast_function (no debug info)\n",
      "[/usr/local/Cellar/python@2/2.7.17_1/Frameworks/Python.framework/Versions/2.7/Python] PyEval_EvalFrameEx (no debug info)\n",
      "[/usr/local/Cellar/python@2/2.7.17_1/Frameworks/Python.framework/Versions/2.7/Python] PyEval_EvalCodeEx (no debug info)\n",
      "[/usr/local/Cellar/python@2/2.7.17_1/Frameworks/Python.framework/Versions/2.7/Python] function_call (no debug info)\n",
      "[/usr/local/Cellar/python@2/2.7.17_1/Frameworks/Python.framework/Versions/2.7/Python] PyObject_Call (no debug info)\n",
      "[/usr/local/Cellar/python@2/2.7.17_1/Frameworks/Python.framework/Versions/2.7/Python] instancemethod_call (no debug info)\n",
      "[/usr/local/Cellar/python@2/2.7.17_1/Frameworks/Python.framework/Versions/2.7/Python] PyObject_Call (no debug info)\n",
      "[/usr/local/Cellar/python@2/2.7.17_1/Frameworks/Python.framework/Versions/2.7/Python] PyEval_CallObjectWithKeywords (no debug info)\n",
      "[/usr/local/Cellar/python@2/2.7.17_1/Frameworks/Python.framework/Versions/2.7/Python] t_bootstrap (no debug info)\n",
      "[/usr/local/Cellar/python@2/2.7.17_1/Frameworks/Python.framework/Versions/2.7/Python] pythread_wrapper (no debug info)\n",
      "[/usr/lib/system/libsystem_pthread.dylib] _pthread_body (no debug info)\n",
      "[/usr/lib/system/libsystem_pthread.dylib] _pthread_start (no debug info)\n",
      "[/usr/lib/system/libsystem_pthread.dylib] thread_start (no debug info)\n"
     ]
    },
    {
     "name": "stderr",
     "output_type": "stream",
     "text": [
      "Error in <HandleInterpreterException>: Trying to dereference null pointer or trying to call routine taking non-null arguments.\n",
      "Execution of your code was aborted.\n",
      "\u001b[1minput_line_59:2:36: \u001b[0m\u001b[0;1;35mwarning: \u001b[0m\u001b[1mnull passed to a callee that requires a non-null argument [-Wnonnull]\u001b[0m\n",
      " TH1F* InvMassSubtract = new TH1F(*InvMassSameCharge) ;\n",
      "\u001b[0;1;32m                                   ^~~~~~~~~~~~~~~~~\n",
      "\u001b[0m"
     ]
    }
   ],
   "source": [
    "TH1F* InvMassSubtract = new TH1F(*InvMassSameCharge) ;\n",
    "InvMassSubtract->SetTitle(\"InvMassSubtract\");\n",
    "InvMassSubtract->Add(InvMassSameCharge, InvMassOppCharge, -1, 1); // (1) - (2)\n",
    "\n",
    "cv2->cd(1);\n",
    "InvMassSubtract->SetFillColor(7);\n",
    "InvMassSubtract->SetAxisRange(0.4, 1.4);\n",
    "InvMassSubtract->Draw(\"hist\");\n",
    "\n",
    "cv2->cd(2);\n",
    "InvMassPKSubtract->SetFillColor(7);\n",
    "InvMassPKSubtract->SetAxisRange(0.4, 1.4);\n",
    "InvMassPKSubtract->Draw(\"hist\");\n",
    "cv2->Draw();"
   ]
  },
  {
   "cell_type": "markdown",
   "id": "a7d64afd-cccc-46d7-a2da-1668e8fa76ac",
   "metadata": {},
   "source": [
    "L'istogramma ottenuto sottraendo (2) da (1) è consistente con quello ottenuto sottraendo (4) da (3)."
   ]
  },
  {
   "cell_type": "markdown",
   "id": "f7815fec-aaa2-4a8e-ae53-32434aa9cd51",
   "metadata": {},
   "source": [
    "### 3. Analisi della massa della K*\n",
    "Ora possiamo analizzare i grafici ottenuti. Ci aspettiamo che i grafici appena ottenuti seguano una distribuzione gaussiana, con media corrispondente alla massa di K* e sigma corrispondente alla vita media di K*."
   ]
  },
  {
   "cell_type": "markdown",
   "id": "5afe55f9-ea1b-4c7b-bfe0-942261c57414",
   "metadata": {},
   "source": [
    "Nota: se questi fossero dati reali, ci aspetteremmo una distribuzione _lorentziana_. Otteniamo una distribuzione gaussiana perchè durante la generazione dei dati, abbiamo usato un algoritmo semplificato per simulare il decadimento di K*, ottenendo questo comportamento."
   ]
  },
  {
   "cell_type": "code",
   "execution_count": 8,
   "id": "a6735a2c-e0ba-4049-b0df-a04cc943d551",
   "metadata": {},
   "outputs": [
    {
     "name": "stderr",
     "output_type": "stream",
     "text": [
      "\u001b[1minput_line_61:2:3: \u001b[0m\u001b[0;1;31merror: \u001b[0m\u001b[1muse of undeclared identifier 'cv'\u001b[0m\n",
      " (cv->cd())\n",
      "\u001b[0;1;32m  ^\n",
      "\u001b[0mError in <HandleInterpreterException>: Error evaluating expression (cv->cd()).\n",
      "Execution of your code was aborted.\n"
     ]
    }
   ],
   "source": [
    "cv->cd();\n",
    "\n",
    "InvMassPKSubtract->Fit(\"gaus\", \"QB\", \"\", 0, 2);\n",
    "InvMassPKSubtract->Draw(\"hist\");\n",
    "cv->Draw();"
   ]
  },
  {
   "cell_type": "markdown",
   "id": "7d15c751-5ee6-42e5-b011-989eb948a240",
   "metadata": {},
   "source": [
    "La distribuzione gaussiana fitta perfettamente il grafico e i dati ottenuti sono coerenti con quelli attesi (entro le incertezze)."
   ]
  },
  {
   "cell_type": "markdown",
   "id": "feeaaa8c-1561-4bcb-840e-adc1c10a69da",
   "metadata": {},
   "source": [
    "/*\n",
    "hists_[TraverseMomentumDist] = std::make_unique<TH1F>(\"TraverseMomentumDist\", \"Traverse momentum\", 500, 0, 4);\n",
    "    hists_[EnergyDist]           = std::make_unique<TH1F>(\"EnergyDist\", \"Energy\", 1000, 0, 6);\n",
    "    hists_[InvMass]              = std::make_unique<TH1F>(\"InvMass\", \"Invariant mass\", 500, 0, 8);\n",
    "*/"
   ]
  },
  {
   "cell_type": "markdown",
   "id": "9f71a1ad-c785-449e-ae29-293b17dea351",
   "metadata": {},
   "source": [
    "## Appendice A: Tabelle"
   ]
  },
  {
   "cell_type": "markdown",
   "id": "ed7e6d9f-1ca2-4b3e-897f-c48de113c1c6",
   "metadata": {},
   "source": [
    "<table>\n",
    "    <caption><b>Tabella A.1.</b> Parametri di generazione.</caption>\n",
    "    <tr>\n",
    "        <th>Parametro</th>\n",
    "        <th>Valore</th>\n",
    "    </tr>\n",
    "    <tr>\n",
    "        <td>n° eventi</td>\n",
    "        <td>10<sup>5</sup></td>\n",
    "    </tr>\n",
    "    <tr>\n",
    "        <td>n° particelle per evento</td>\n",
    "        <td>100</td>\n",
    "    </tr>\n",
    "    <tr>\n",
    "        <td><i>PDF</i> modulo del momento</td>\n",
    "        <td>Esponenziale, media 1</td>\n",
    "    </tr>\n",
    "    <tr>\n",
    "        <td><i>PDF</i> angoli azimutali e polari</td>\n",
    "        <td>Uniforme</td>\n",
    "    </tr>\n",
    "</table>"
   ]
  },
  {
   "cell_type": "markdown",
   "id": "1306cf01-f0ba-4bf8-bee5-e2563b2f591f",
   "metadata": {},
   "source": [
    "<table>\n",
    "    <caption><b>Tabella A.2.</b> Probabilità di generazione delle particelle, configurazione inserita nel programma.</caption>\n",
    "    <tr>\n",
    "        <th>Particella</th>\n",
    "        <th>Probabilità relativa</th>\n",
    "    </tr>\n",
    "    <tr>\n",
    "        <td>$\\pi$+</td>\n",
    "        <td>40.0%</td>\n",
    "    </tr>\n",
    "    <tr>\n",
    "        <td>$\\pi$-</td>\n",
    "        <td>40.0%</td>\n",
    "    </tr>\n",
    "    <tr>\n",
    "        <td>$\\kappa$+</td>\n",
    "        <td>5.0%</td>\n",
    "    </tr>\n",
    "    <tr>\n",
    "        <td>$\\kappa$-</td>\n",
    "        <td>5.0%</td>\n",
    "    </tr>\n",
    "    <tr>\n",
    "        <td>p+</td>\n",
    "        <td>4.5%</td>\n",
    "    </tr>\n",
    "    <tr>\n",
    "        <td>p-</td>\n",
    "        <td>4.5%</td>\n",
    "    </tr>\n",
    "    <tr>\n",
    "        <td>$\\kappa$*</td>\n",
    "        <td>1.0%</td>\n",
    "    </tr>\n",
    "</table>"
   ]
  },
  {
   "cell_type": "markdown",
   "id": "11daa857-13bc-4459-88fd-c055ccf66b7c",
   "metadata": {},
   "source": [
    "<table>\n",
    "    <caption><b>Tabella A.3.</b> Abbondanza delle particelle generate, cofrontata con il valore atteso. Le incertezze sui valori osservati sono valutate usando la regola della radice.</caption>\n",
    "    <tr>\n",
    "        <th>Particella</th>\n",
    "        <th>Numero atteso ($10^5$ occorrenze)</th>\n",
    "        <th>Numero ottenuto ($10^3$ occorrenze) </th>\n",
    "        <th>Percentuale attesa</th>\n",
    "        <th>Percentuale ottenuta</th>\n",
    "    </tr>\n",
    "    <tr>\n",
    "        <td>$\\pi$+</td>\n",
    "        <td>40</td>\n",
    "        <td>3999 $\\pm$ 2</td>\n",
    "        <td>40.0%</td>\n",
    "        <td>40.0%</td>\n",
    "    </tr>\n",
    "    <tr>\n",
    "        <td>$\\pi$-</td>\n",
    "        <td>40</td>\n",
    "        <td>4000 $\\pm$ 2</td>\n",
    "        <td>40.0%</td>\n",
    "        <td>40.0%</td>\n",
    "    </tr>\n",
    "    <tr>\n",
    "        <td>$\\kappa$+</td>\n",
    "        <td>5</td>\n",
    "        <td>500.3 $\\pm$ 0.7</td>\n",
    "        <td>5.0%</td>\n",
    "        <td>5.0%</td>\n",
    "    </tr>\n",
    "    <tr>\n",
    "        <td>$\\kappa$-</td>\n",
    "        <td>5</td>\n",
    "        <td>500.1 $\\pm$ 0.7</td>\n",
    "        <td>5.0%</td>\n",
    "        <td>5.0%</td>\n",
    "    </tr>\n",
    "    <tr>\n",
    "        <td>p+</td>\n",
    "        <td>4.5</td>\n",
    "        <td>449.0 $\\pm$ 0.7</td>\n",
    "        <td>4.5%</td>\n",
    "        <td>4.5%</td>\n",
    "    </tr>\n",
    "    <tr>\n",
    "        <td>p-</td>\n",
    "        <td>4.5</td>\n",
    "        <td>450.7 $\\pm$ 0.7</td>\n",
    "        <td>4.5%</td>\n",
    "        <td>4.5%</td>\n",
    "    </tr>\n",
    "    <tr>\n",
    "        <td>$\\kappa$*</td>\n",
    "        <td>1</td>\n",
    "        <td>100.5 $\\pm$ 0.3</td>\n",
    "        <td>1.0%</td>\n",
    "        <td>1.0%</td>\n",
    "    </tr>\n",
    "    <tr>\n",
    "        <td><b>Totale</b></td>\n",
    "        <td>100</td>\n",
    "        <td>10000 $\\pm$ 7</td>\n",
    "        <td>100.0%</td>\n",
    "        <td>100.0%</td>\n",
    "    </tr>\n",
    "</table>"
   ]
  },
  {
   "cell_type": "markdown",
   "id": "127e691f-650d-4be3-a22a-b210e1df7abb",
   "metadata": {},
   "source": [
    "# Appendice B: Grafici"
   ]
  },
  {
   "cell_type": "code",
   "execution_count": 9,
   "id": "d06cc8f4-a20a-4361-83d5-fc1c00597b10",
   "metadata": {},
   "outputs": [],
   "source": [
    "// Carica i dati salvati da file\n",
    "TFile* histograms = new TFile(\"../histograms/kstar-decay-hist.root\",\"READ\");\n",
    "\n",
    "// Importa i grafici necessari per [4.1]\n",
    "TH1F* ParticleDist     = (TH1F*)histograms->Get(\"ParticleDist\");\n",
    "TH1F* AzimuthAngleDist = (TH1F*)histograms->Get(\"AzimuthAngleDist\");\n",
    "TH1F* PolarAngleDist   = (TH1F*)histograms->Get(\"PolarAngleDist\");\n",
    "TH1F* MomentumDist     = (TH1F*)histograms->Get(\"MomentumDist\");\n",
    "\n",
    "// Imposta lo stile\n",
    "gStyle->SetOptFit(1111);\n",
    "gStyle->SetOptStat(\"neM\");\n",
    "\n",
    "// Crea una canvas per visualizzare i grafici\n",
    "TCanvas* cv = new TCanvas(\"cv\", \"\", 1200, 700);"
   ]
  },
  {
   "cell_type": "code",
   "execution_count": 48,
   "id": "8a67c7ec-a735-482f-8158-54f2fe6704c7",
   "metadata": {},
   "outputs": [
    {
     "data": {
      "image/png": "[encoded data removed]",
      "text/plain": [
       "<IPython.core.display.Image object>"
      ]
     },
     "metadata": {},
     "output_type": "display_data"
    }
   ],
   "source": [
    "// Crea una pie per organizzare i dati\n",
    "TPie particleDistPie(ParticleDist);\n",
    "\n",
    "int colors[] = {2, 63, 65, 222, 224, 71, 75, 79};\n",
    "particleDistPie.SetTitle(\"Grafico B.1. Numero di particelle generate\");\n",
    "particleDistPie.SetRadius(.25);\n",
    "particleDistPie.SetValueFormat(\"%.0f\");\n",
    "particleDistPie.SetLabelFormat(\"%txt: %val (%perc)\");\n",
    "particleDistPie.SortSlices();\n",
    "particleDistPie.SetFillColors(colors);\n",
    "\n",
    "// Disegna grafico e canvas\n",
    "particleDistPie.Draw();\n",
    "cv->Draw();"
   ]
  },
  {
   "cell_type": "markdown",
   "id": "61fffa5b-8781-42b3-8fba-97d011ba7482",
   "metadata": {},
   "source": [
    "__Grafico B.1.__ Numero di particelle generate."
   ]
  },
  {
   "cell_type": "code",
   "execution_count": null,
   "id": "7580e223-9f3e-49a6-8d9a-57bed0155f2e",
   "metadata": {},
   "outputs": [],
   "source": []
  }
 ],
 "metadata": {
  "kernelspec": {
   "display_name": "ROOT C++",
   "language": "c++",
   "name": "root"
  },
  "language_info": {
   "codemirror_mode": "text/x-c++src",
   "file_extension": ".C",
   "mimetype": " text/x-c++src",
   "name": "c++"
  }
 },
 "nbformat": 4,
 "nbformat_minor": 5
}
